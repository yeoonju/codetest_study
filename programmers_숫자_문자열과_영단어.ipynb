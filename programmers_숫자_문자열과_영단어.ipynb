{
  "nbformat": 4,
  "nbformat_minor": 0,
  "metadata": {
    "colab": {
      "name": "programmers_숫자 문자열과 영단어.ipynb",
      "provenance": [],
      "authorship_tag": "ABX9TyMnLiLBscoPupnm6Dn6qS3T",
      "include_colab_link": true
    },
    "kernelspec": {
      "name": "python3",
      "display_name": "Python 3"
    },
    "language_info": {
      "name": "python"
    }
  },
  "cells": [
    {
      "cell_type": "markdown",
      "metadata": {
        "id": "view-in-github",
        "colab_type": "text"
      },
      "source": [
        "<a href=\"https://colab.research.google.com/github/yeoonju/codetest_study/blob/main/programmers_%EC%88%AB%EC%9E%90_%EB%AC%B8%EC%9E%90%EC%97%B4%EA%B3%BC_%EC%98%81%EB%8B%A8%EC%96%B4.ipynb\" target=\"_parent\"><img src=\"https://colab.research.google.com/assets/colab-badge.svg\" alt=\"Open In Colab\"/></a>"
      ]
    },
    {
      "cell_type": "markdown",
      "metadata": {
        "id": "ZBk-7PiAEDHB"
      },
      "source": [
        "## 숫자 문자열과 영단어\n",
        "\n",
        "네오와 프로도가 숫자놀이를 하고 있습니다. 네오가 프로도에게 숫자를 건넬 때 일부 자릿수를 영단어로 바꾼 카드를 건네주면 프로도는 원래 숫자를 찾는 게임입니다.\n",
        "\n",
        "다음은 숫자의 일부 자릿수를 영단어로 바꾸는 예시입니다.\n",
        "\n",
        "1478 → \"one4seveneight\"\n",
        "234567 → \"23four5six7\"\n",
        "10203 → \"1zerotwozero3\""
      ]
    },
    {
      "cell_type": "code",
      "metadata": {
        "id": "grl_W-1-DdZU"
      },
      "source": [
        "# 내가 한 풀이 \n",
        "def solution(s):\n",
        "    change = {'zero':'0', # 각 숫자와 대응되는 영단어 적어주기 \n",
        "                'one':'1',\n",
        "                'two':'2',\n",
        "                'three':'3',\n",
        "                'four':'4',\n",
        "                'five':'5',\n",
        "                'six':'6',\n",
        "                'seven':'7',\n",
        "                'eight':'8',\n",
        "                'nine':'9'}\n",
        "\n",
        "    for item in change:\n",
        "        s = s.replace(item, change.get(item)) # replace를 통해서 key값을 value값으로 바꿔주기\n",
        "\n",
        "    return int(s) # str형태를 int로 바꿔주고 결과도출\n",
        "\n",
        "# 다른 사람의 풀이 \n",
        "def solution(s):\n",
        "    answer = s\n",
        "    dict_num = {'zero' : '0','one' : '1','two' : '2','three' : '3','four' :'4','five' : '5','six' : '6','seven' : '7','eight' : '8','nine' :'9'}\n",
        "    for key, value in dict_num.items():\n",
        "        answer = answer.replace(key, value) \n",
        "    return int(answer) # 위의 방식과 거의 동일하지만 items라는 것을 통해 한번에 key value 값을 불러냄 "
      ],
      "execution_count": null,
      "outputs": []
    }
  ]
}