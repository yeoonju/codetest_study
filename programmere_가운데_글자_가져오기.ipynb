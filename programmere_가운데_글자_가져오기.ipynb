{
  "nbformat": 4,
  "nbformat_minor": 0,
  "metadata": {
    "colab": {
      "name": "programmere_가운데 글자 가져오기.ipynb",
      "provenance": [],
      "authorship_tag": "ABX9TyMj7YtilcDJkoWO+A1h3ori",
      "include_colab_link": true
    },
    "kernelspec": {
      "name": "python3",
      "display_name": "Python 3"
    },
    "language_info": {
      "name": "python"
    }
  },
  "cells": [
    {
      "cell_type": "markdown",
      "metadata": {
        "id": "view-in-github",
        "colab_type": "text"
      },
      "source": [
        "<a href=\"https://colab.research.google.com/github/yeoonju/codetest_study/blob/main/programmere_%EA%B0%80%EC%9A%B4%EB%8D%B0_%EA%B8%80%EC%9E%90_%EA%B0%80%EC%A0%B8%EC%98%A4%EA%B8%B0.ipynb\" target=\"_parent\"><img src=\"https://colab.research.google.com/assets/colab-badge.svg\" alt=\"Open In Colab\"/></a>"
      ]
    },
    {
      "cell_type": "markdown",
      "metadata": {
        "id": "FWuwcXMUFe21"
      },
      "source": [
        "## 가운데 글자 가져오기\n",
        "\n",
        "단어 s의 가운데 글자를 반환하는 함수, solution을 만들어 보세요. 단어의 길이가 짝수라면 가운데 두글자를 반환하면 됩니다."
      ]
    },
    {
      "cell_type": "code",
      "metadata": {
        "id": "74QzxuaPFUUc"
      },
      "source": [
        "#내가 한 풀이\n",
        "\n",
        "def solution(s):\n",
        "    c=int(len(s)/2)\n",
        "    if len(s)%2!=0:\n",
        "        return s[c]\n",
        "    else :\n",
        "        return s[c-1:c+1]\n",
        "\n",
        "#다른 사람이 한 풀이\n",
        "\n",
        "def string_middle(str):\n",
        "\n",
        "    return str[(len(str)-1)//2:len(str)//2+1]\n",
        "\n",
        "print(string_middle(\"power\"))"
      ],
      "execution_count": null,
      "outputs": []
    }
  ]
}