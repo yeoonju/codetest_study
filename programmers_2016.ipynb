{
  "nbformat": 4,
  "nbformat_minor": 0,
  "metadata": {
    "colab": {
      "name": "programmers_2016.ipynb",
      "provenance": [],
      "authorship_tag": "ABX9TyOFu4ud+vYzjqhxU9sX7BRZ",
      "include_colab_link": true
    },
    "kernelspec": {
      "name": "python3",
      "display_name": "Python 3"
    },
    "language_info": {
      "name": "python"
    }
  },
  "cells": [
    {
      "cell_type": "markdown",
      "metadata": {
        "id": "view-in-github",
        "colab_type": "text"
      },
      "source": [
        "<a href=\"https://colab.research.google.com/github/yeoonju/codetest_study/blob/main/programmers_2016.ipynb\" target=\"_parent\"><img src=\"https://colab.research.google.com/assets/colab-badge.svg\" alt=\"Open In Colab\"/></a>"
      ]
    },
    {
      "cell_type": "markdown",
      "metadata": {
        "id": "Y1aj6Um2fp0c"
      },
      "source": [
        "## 2016년\n",
        "\n",
        "2016년 1월 1일은 금요일입니다. 2016년 a월 b일은 무슨 요일일까요? 두 수 a ,b를 입력받아 2016년 a월 b일이 무슨 요일인지 리턴하는 함수, solution을 완성하세요. 요일의 이름은 일요일부터 토요일까지 각각 SUN,MON,TUE,WED,THU,FRI,SAT 입니다. 예를 들어 a=5, b=24라면 5월 24일은 화요일이므로 문자열 \"TUE\"를 반환하세요."
      ]
    },
    {
      "cell_type": "code",
      "metadata": {
        "id": "KrdpSx4qfhv0"
      },
      "source": [
        "# 나의 풀이 \n",
        "\n",
        "def solution(a, b):\n",
        "    date = ['THU','FRI','SAT','SUN','MON','TUE','WED']; # 인덱스 1이 금요일이 되도록 설정 \n",
        "    day = [31,29,31,30,31,30,31,31,30,31,30,31];# 1월부터 12월이 며칠까지 있는지 나열\n",
        "    return date[(sum(day[:a-1])+b)%7] # a-1만큼 더해주고 며칠인지에 대한 정보인 b를 더해서 7로 나눠주고 나머지에 해당하는 date 인덱스 값이 도출\n",
        "\n",
        "\n",
        "# 다른 사람의 풀이 \n",
        "import datetime # datetime 함수 사용 \n",
        "\n",
        "def getDayName(a,b):\n",
        "    t = 'MON TUE WED THU FRI SAT SUN'.split()\n",
        "    return t[datetime.datetime(2016, a, b).weekday()]"
      ],
      "execution_count": 1,
      "outputs": []
    }
  ]
}