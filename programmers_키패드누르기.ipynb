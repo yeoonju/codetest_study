{
  "nbformat": 4,
  "nbformat_minor": 0,
  "metadata": {
    "colab": {
      "name": "programmers_키패드누르기.ipynb",
      "provenance": [],
      "collapsed_sections": [],
      "authorship_tag": "ABX9TyNwuXV5xnr3yMnkakTn13T5",
      "include_colab_link": true
    },
    "kernelspec": {
      "name": "python3",
      "display_name": "Python 3"
    },
    "language_info": {
      "name": "python"
    }
  },
  "cells": [
    {
      "cell_type": "markdown",
      "metadata": {
        "id": "view-in-github",
        "colab_type": "text"
      },
      "source": [
        "<a href=\"https://colab.research.google.com/github/yeoonju/codetest_study/blob/main/programmers_%ED%82%A4%ED%8C%A8%EB%93%9C%EB%88%84%EB%A5%B4%EA%B8%B0.ipynb\" target=\"_parent\"><img src=\"https://colab.research.google.com/assets/colab-badge.svg\" alt=\"Open In Colab\"/></a>"
      ]
    },
    {
      "cell_type": "markdown",
      "metadata": {
        "id": "zokR4X1HXIu8"
      },
      "source": [
        "## [카카오 인턴] 키패드 누르기\n",
        "이 전화 키패드에서 왼손과 오른손의 엄지손가락만을 이용해서 숫자만을 입력하려고 합니다.\n",
        "맨 처음 왼손 엄지손가락은 * 키패드에 오른손 엄지손가락은 # 키패드 위치에서 시작하며, 엄지손가락을 사용하는 규칙은 다음과 같습니다.\n",
        "\n",
        "엄지손가락은 상하좌우 4가지 방향으로만 이동할 수 있으며 키패드 이동 한 칸은 거리로 1에 해당합니다.\n",
        "왼쪽 열의 3개의 숫자 1, 4, 7을 입력할 때는 왼손 엄지손가락을 사용합니다.\n",
        "오른쪽 열의 3개의 숫자 3, 6, 9를 입력할 때는 오른손 엄지손가락을 사용합니다.\n",
        "가운데 열의 4개의 숫자 2, 5, 8, 0을 입력할 때는 두 엄지손가락의 현재 키패드의 위치에서 더 가까운 엄지손가락을 사용합니다.\n",
        "4-1. 만약 두 엄지손가락의 거리가 같다면, 오른손잡이는 오른손 엄지손가락, 왼손잡이는 왼손 엄지손가락을 사용합니다.\n",
        "순서대로 누를 번호가 담긴 배열 numbers, 왼손잡이인지 오른손잡이인 지를 나타내는 문자열 hand가 매개변수로 주어질 때, 각 번호를 누른 엄지손가락이 왼손인 지 오른손인 지를 나타내는 연속된 문자열 형태로 return 하도록 solution 함수를 완성해주세요."
      ]
    },
    {
      "cell_type": "code",
      "metadata": {
        "id": "HeLYnCR6XBL3"
      },
      "source": [
        "def solution(numbers, hand):\n",
        "    answer = ''\n",
        "    left_finger = '*'\n",
        "    right_finger = '#'\n",
        "    number_pad = {\n",
        "        1: (1, 1), 2: (2, 1), 3: (3, 1),\n",
        "        4: (1, 2), 5: (2, 2), 6: (3, 2),\n",
        "        7: (1, 3), 8: (2, 3), 9: (3, 3),\n",
        "        '*': (1, 4), 0: (2, 4), '#': (3, 4)}\n",
        "    for number in numbers: # 왼쪽 손가락으로 \n",
        "        if number in [1, 4, 7]:\n",
        "            answer += 'L'\n",
        "            left_finger = number\n",
        "        elif number in [3, 6, 9]: # 오른쪽 손가락으로 \n",
        "            answer += 'R'\n",
        "            right_finger = number\n",
        "        else: # 두 손가락 거리 차 확인하고 어떤 손가락으로 누를지 결정 \n",
        "          left_distance_x = abs(number_pad[number][0] - number_pad[left_finger][0])\n",
        "          left_distance_y = abs(number_pad[number][1] - number_pad[left_finger][1])\n",
        "          left_distance = left_distance_x + left_distance_y\n",
        "          right_distance_x = abs(number_pad[number][0] - number_pad[right_finger][0])\n",
        "          right_distance_y = abs(number_pad[number][1] - number_pad[right_finger][1])\n",
        "          right_distance = right_distance_x + right_distance_y\n",
        "          if left_distance < right_distance : # 왼쪽 손가락과의 거리가 더 멀 때 \n",
        "            answer += 'L'\n",
        "            left_finger = number\n",
        "          elif left_distance > right_distance : # 오른쪽 손가락과의 거리가 더 멀 때 \n",
        "            answer += 'R'\n",
        "            right_finger = number\n",
        "          elif left_distance == right_distance : # 왼쪽, 오른쪽 손가락과의 거리가 같을 때 \n",
        "            if hand = 'left' : # 왼손잡이면 왼쪽손가락으로 \n",
        "              answer += 'L'\n",
        "              left_finger = number\n",
        "            elif hand = 'right' : # 오른손잡이면 오른쪽 손가락으로 \n",
        "              answer += 'R'\n",
        "              right_finger = number\n",
        "      return answer                "
      ],
      "execution_count": null,
      "outputs": []
    }
  ]
}