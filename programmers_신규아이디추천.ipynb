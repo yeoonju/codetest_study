{
  "nbformat": 4,
  "nbformat_minor": 0,
  "metadata": {
    "colab": {
      "name": "programmers_신규아이디추천.ipynb",
      "provenance": [],
      "authorship_tag": "ABX9TyM59mp3/MxAWxhPXZS5Uaaf",
      "include_colab_link": true
    },
    "kernelspec": {
      "name": "python3",
      "display_name": "Python 3"
    },
    "language_info": {
      "name": "python"
    }
  },
  "cells": [
    {
      "cell_type": "markdown",
      "metadata": {
        "id": "view-in-github",
        "colab_type": "text"
      },
      "source": [
        "<a href=\"https://colab.research.google.com/github/yeoonju/codetest_study/blob/main/programmers_%EC%8B%A0%EA%B7%9C%EC%95%84%EC%9D%B4%EB%94%94%EC%B6%94%EC%B2%9C.ipynb\" target=\"_parent\"><img src=\"https://colab.research.google.com/assets/colab-badge.svg\" alt=\"Open In Colab\"/></a>"
      ]
    },
    {
      "cell_type": "markdown",
      "metadata": {
        "id": "OJU3W0z6_8T1"
      },
      "source": [
        "## 신규 아이디 추천\n",
        "신규 유저가 입력한 아이디를 나타내는 new_id가 매개변수로 주어질 때, \"네오\"가 설계한 7단계의 처리 과정을 거친 후의 추천 아이디를 return 하도록 solution 함수를 완성해 주세요."
      ]
    },
    {
      "cell_type": "code",
      "metadata": {
        "id": "4Uku_njE_4mA"
      },
      "source": [
        "import re # 정규표현식 사용하기 위해서 re 모듈 로드 \n",
        "def solution(new_id):\n",
        "  id = new_id.lower() # step1 : 대문자는 소문자로\n",
        "  id = re.sub('[^a-z\\d\\-\\_\\.]','',id) # step2 : 소문자, 숫자, -, _, . 제외하고 제거 \n",
        "  id = re.sub('\\.\\.+','.',id) # step3 : 마침표가 2번 이상 연속되면 마침표 1번으로 \n",
        "  id = re.sub('^\\.|\\.$.','',id) # step4 : 처음과 끝에 마침표 있으면 제거 \n",
        "  if id == '': # step5 : 빈 문자열일 경우 'a' 대입\n",
        "    id += 'a'\n",
        "  id = re.sub('\\.$','',id[:15]) # step6 : id 범위 지정, 끝에 마침표 있으면 제거\n",
        "  if len(id) <= 2 : # step7 : id 2자 이하이면 맨 끝 문자를 붙이기\n",
        "    while len(id) <= 2 :\n",
        "      id += id[-1]\n",
        "  return id "
      ],
      "execution_count": null,
      "outputs": []
    }
  ]
}