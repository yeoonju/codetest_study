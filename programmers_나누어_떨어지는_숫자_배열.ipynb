{
  "nbformat": 4,
  "nbformat_minor": 0,
  "metadata": {
    "colab": {
      "name": "programmers_나누어 떨어지는 숫자 배열.ipynb",
      "provenance": [],
      "authorship_tag": "ABX9TyPfLwx2HWGRG/HHtd7PipnT",
      "include_colab_link": true
    },
    "kernelspec": {
      "name": "python3",
      "display_name": "Python 3"
    },
    "language_info": {
      "name": "python"
    }
  },
  "cells": [
    {
      "cell_type": "markdown",
      "metadata": {
        "id": "view-in-github",
        "colab_type": "text"
      },
      "source": [
        "<a href=\"https://colab.research.google.com/github/yeoonju/codetest_study/blob/main/programmers_%EB%82%98%EB%88%84%EC%96%B4_%EB%96%A8%EC%96%B4%EC%A7%80%EB%8A%94_%EC%88%AB%EC%9E%90_%EB%B0%B0%EC%97%B4.ipynb\" target=\"_parent\"><img src=\"https://colab.research.google.com/assets/colab-badge.svg\" alt=\"Open In Colab\"/></a>"
      ]
    },
    {
      "cell_type": "markdown",
      "metadata": {
        "id": "pdmz-4C3bD-M"
      },
      "source": [
        "## 나누어 떨어지는 숫자 배열\n",
        "\n",
        "array의 각 element 중 divisor로 나누어 떨어지는 값을 오름차순으로 정렬한 배열을 반환하는 함수, solution을 작성해주세요.\n",
        "divisor로 나누어 떨어지는 element가 하나도 없다면 배열에 -1을 담아 반환하세요."
      ]
    },
    {
      "cell_type": "code",
      "metadata": {
        "colab": {
          "base_uri": "https://localhost:8080/"
        },
        "id": "E2Xs15qM_12g",
        "outputId": "6b320bb9-258e-4035-ca3c-8870a6383b23"
      },
      "source": [
        "# 내가 한 풀이\n",
        "\n",
        "def solution(arr, divisor):\n",
        "    answer = []\n",
        "    for i in arr: # arr값을 i에 하나씩 넣기\n",
        "        if i % divisor == 0: # 나눴을 때 나머지가 0이라는 의미 \n",
        "            answer.append(i) # 나누어떨어지는 값만 answer에 넣기 \n",
        "    if len(answer) == 0: # 만약에 나누어떨어지는 값이 없어서 길이가 0이라면\n",
        "        answer.append(-1) # answer에 -1 값 넣기 \n",
        "    return sorted(answer) # 오름차순 정렬\n",
        "\n",
        "\n",
        "# 다른 사람이 한 풀이 \n",
        "def solution(arr, divisor): return sorted([n for n in arr if n%divisor == 0]) or [-1]\n"
      ],
      "execution_count": 10,
      "outputs": [
        {
          "output_type": "execute_result",
          "data": {
            "text/plain": [
              "[1, 2, 3, 36]"
            ]
          },
          "metadata": {
            "tags": []
          },
          "execution_count": 10
        }
      ]
    }
  ]
}