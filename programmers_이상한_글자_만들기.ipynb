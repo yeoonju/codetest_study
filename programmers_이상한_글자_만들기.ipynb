{
  "nbformat": 4,
  "nbformat_minor": 0,
  "metadata": {
    "colab": {
      "name": "programmers_이상한 글자 만들기.ipynb",
      "provenance": [],
      "authorship_tag": "ABX9TyNgm2Y7TaHuOD8wgUdDJOyh",
      "include_colab_link": true
    },
    "kernelspec": {
      "name": "python3",
      "display_name": "Python 3"
    },
    "language_info": {
      "name": "python"
    }
  },
  "cells": [
    {
      "cell_type": "markdown",
      "metadata": {
        "id": "view-in-github",
        "colab_type": "text"
      },
      "source": [
        "<a href=\"https://colab.research.google.com/github/yeoonju/codetest_study/blob/main/programmers_%EC%9D%B4%EC%83%81%ED%95%9C_%EA%B8%80%EC%9E%90_%EB%A7%8C%EB%93%A4%EA%B8%B0.ipynb\" target=\"_parent\"><img src=\"https://colab.research.google.com/assets/colab-badge.svg\" alt=\"Open In Colab\"/></a>"
      ]
    },
    {
      "cell_type": "markdown",
      "metadata": {
        "id": "JL8lRmSguz4Z"
      },
      "source": [
        "# 이상한 문자 만들기\n",
        "\n",
        "문자열 s는 한 개 이상의 단어로 구성되어 있습니다. 각 단어는 하나 이상의 공백문자로 구분되어 있습니다. 각 단어의 짝수번째 알파벳은 대문자로, 홀수번째 알파벳은 소문자로 바꾼 문자열을 리턴하는 함수, solution을 완성하세요.\n"
      ]
    },
    {
      "cell_type": "code",
      "metadata": {
        "id": "_hIQQfw_urSB"
      },
      "source": [
        "# 내가 한 풀이 \n",
        "def solution(s):\n",
        "    sp = s.split(\" \") # 전체 문자열에 대한 인덱스 기준이 아니라 공백기준으로 잘라진 단어의 기준\n",
        "\n",
        "    for i in range(len(sp)):\n",
        "        sl=list(sp[i]) # list로 만들어주었다\n",
        "\n",
        "        for j in range(len(sl)):\n",
        "            if j%2 ==0: # 짝수일경우 대문자\n",
        "                sl[j]=sl[j].upper()\n",
        "            elif j%2 != 0: # 홀수일 경우 소문자 \n",
        "                sl[j]=sl[j].lower()\n",
        "        sp[i] = \"\".join(sl)\n",
        "    answer = \" \".join(sp)   \n",
        "\n",
        "    return answer\n",
        "\n",
        "\n",
        "# 다른 사람의 풀이 \n",
        "def toWeirdCase(s):\n",
        "  return ' '.join([''.join([c.upper() if i % 2 == 0 else c.lower() for i, c in enumerate(w)]) for w in s.split()])"
      ],
      "execution_count": 23,
      "outputs": []
    }
  ]
}