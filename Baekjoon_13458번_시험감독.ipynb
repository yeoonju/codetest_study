{
  "nbformat": 4,
  "nbformat_minor": 0,
  "metadata": {
    "colab": {
      "name": "Baekjoon_13458번 시험감독.ipynb",
      "provenance": [],
      "authorship_tag": "ABX9TyMyQ1pQZYL9FJZZuIRzZ7L/",
      "include_colab_link": true
    },
    "kernelspec": {
      "name": "python3",
      "display_name": "Python 3"
    },
    "language_info": {
      "name": "python"
    }
  },
  "cells": [
    {
      "cell_type": "markdown",
      "metadata": {
        "id": "view-in-github",
        "colab_type": "text"
      },
      "source": [
        "<a href=\"https://colab.research.google.com/github/yeoonju/codetest_study/blob/main/Baekjoon_13458%EB%B2%88_%EC%8B%9C%ED%97%98%EA%B0%90%EB%8F%85.ipynb\" target=\"_parent\"><img src=\"https://colab.research.google.com/assets/colab-badge.svg\" alt=\"Open In Colab\"/></a>"
      ]
    },
    {
      "cell_type": "markdown",
      "metadata": {
        "id": "CKNLTLOmDaAl"
      },
      "source": [
        "## 13458번 시험감독 \n",
        "\n",
        "총 N개의 시험장이 있고, 각각의 시험장마다 응시자들이 있다. i번 시험장에 있는 응시자의 수는 Ai명이다.\n",
        "\n",
        "감독관은 총감독관과 부감독관으로 두 종류가 있다. 총감독관은 한 시험장에서 감시할 수 있는 응시자의 수가 B명이고, 부감독관은 한 시험장에서 감시할 수 있는 응시자의 수가 C명이다.\n",
        "\n",
        "각각의 시험장에 총감독관은 오직 1명만 있어야 하고, 부감독관은 여러 명 있어도 된다.\n",
        "\n",
        "각 시험장마다 응시생들을 모두 감시해야 한다. 이때, 필요한 감독관 수의 최솟값을 구하는 프로그램을 작성하시오.\n",
        "\n",
        "각 시험장마다 응시생을 모두 감독하기 위해 필요한 감독관의 최소 수를 출력한다."
      ]
    },
    {
      "cell_type": "code",
      "metadata": {
        "id": "uqUeo7mQDPxY"
      },
      "source": [
        "import math # 올림을 하기위해서 math 모듈을 사용한다.\n",
        "N = int(input()) \n",
        "student = list(map(int, input().split())) \n",
        "B, C = map(int, input().split()) \n",
        "\n",
        "def main(): \n",
        "  global N, member, B, C \n",
        "  result = 0 \n",
        "  \n",
        "  for i in range(N): \n",
        "    if student[i] > 0: \n",
        "      student[i] -= B \n",
        "      result += 1 \n",
        "    if student[i] > 0: \n",
        "      result += math.ceil(student[i] / C) \n",
        "  print(result) \n",
        "main()"
      ],
      "execution_count": null,
      "outputs": []
    }
  ]
}