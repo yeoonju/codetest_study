{
  "nbformat": 4,
  "nbformat_minor": 0,
  "metadata": {
    "colab": {
      "name": "programmers_음양더하기.ipynb",
      "provenance": [],
      "authorship_tag": "ABX9TyP2vV/V64yhwj2PhoqzR09l",
      "include_colab_link": true
    },
    "kernelspec": {
      "name": "python3",
      "display_name": "Python 3"
    },
    "language_info": {
      "name": "python"
    }
  },
  "cells": [
    {
      "cell_type": "markdown",
      "metadata": {
        "id": "view-in-github",
        "colab_type": "text"
      },
      "source": [
        "<a href=\"https://colab.research.google.com/github/yeoonju/codetest_study/blob/main/programmers_%EC%9D%8C%EC%96%91%EB%8D%94%ED%95%98%EA%B8%B0.ipynb\" target=\"_parent\"><img src=\"https://colab.research.google.com/assets/colab-badge.svg\" alt=\"Open In Colab\"/></a>"
      ]
    },
    {
      "cell_type": "markdown",
      "metadata": {
        "id": "v--A6JZtAChs"
      },
      "source": [
        "##음양더하기 \n",
        "어떤 정수들이 있습니다. 이 정수들의 절댓값을 차례대로 담은 정수 배열\n",
        "absolutes와 \n",
        "이 정수들의 부호를 차례대로 담은 불리언 배열 signs가 매개변수로 주어집니다. \n",
        "실제 정수들의 합을 구하여 return 하도록 solution 함수를 완성해주세요."
      ]
    },
    {
      "cell_type": "code",
      "metadata": {
        "id": "cJgiWIeE8-Fw"
      },
      "source": [
        "# 내가 푼 풀이 \n",
        "\n",
        "def solution(absolutes, signs): \n",
        "    for i in range(0,len(signs)) :#길이로 range 정하기 \n",
        "        if signs[i] == True :#signs이 true일 경우\n",
        "            absolutes[i] = absolutes[i] #absolutes 그대로\n",
        "        else :\n",
        "            absolutes[i]*=(-1) # - 붙이기\n",
        "    answer=sum(absolutes)#더해주기\n",
        "    return answer\n",
        "\n",
        "\n",
        "# 다른 사람의 풀이 \n",
        "\n",
        "def solution(absolutes, signs):\n",
        "    return sum(absolutes if sign else -absolutes for absolutes, sign in zip(absolutes, signs)) # zip함수를 사용해서 정리\n"
      ],
      "execution_count": 3,
      "outputs": []
    },
    {
      "cell_type": "code",
      "metadata": {
        "id": "OMaK5X5a_6SR"
      },
      "source": [
        ""
      ],
      "execution_count": 4,
      "outputs": []
    },
    {
      "cell_type": "code",
      "metadata": {
        "id": "JfH-O2n5BUaK"
      },
      "source": [
        ""
      ],
      "execution_count": null,
      "outputs": []
    }
  ]
}