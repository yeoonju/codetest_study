{
  "nbformat": 4,
  "nbformat_minor": 0,
  "metadata": {
    "colab": {
      "name": "Baekjoon_2164번_카드2.ipynb",
      "provenance": [],
      "authorship_tag": "ABX9TyM/Di4wENNLiqt2a71PFcFR",
      "include_colab_link": true
    },
    "kernelspec": {
      "name": "python3",
      "display_name": "Python 3"
    },
    "language_info": {
      "name": "python"
    }
  },
  "cells": [
    {
      "cell_type": "markdown",
      "metadata": {
        "id": "view-in-github",
        "colab_type": "text"
      },
      "source": [
        "<a href=\"https://colab.research.google.com/github/yeoonju/codetest_study/blob/main/Baekjoon_2164%EB%B2%88_%EC%B9%B4%EB%93%9C2.ipynb\" target=\"_parent\"><img src=\"https://colab.research.google.com/assets/colab-badge.svg\" alt=\"Open In Colab\"/></a>"
      ]
    },
    {
      "cell_type": "markdown",
      "metadata": {
        "id": "-F5Uq8f8Cbyg"
      },
      "source": [
        "## 카드2\n",
        "N장의 카드가 있다. 각각의 카드는 차례로 1부터 N까지의 번호가 붙어 있으며, 1번 카드가 제일 위에, N번 카드가 제일 아래인 상태로 순서대로 카드가 놓여 있다.\n",
        "\n",
        "이제 다음과 같은 동작을 카드가 한 장 남을 때까지 반복하게 된다. 우선, 제일 위에 있는 카드를 바닥에 버린다. 그 다음, 제일 위에 있는 카드를 제일 아래에 있는 카드 밑으로 옮긴다.\n",
        "\n",
        "예를 들어 N=4인 경우를 생각해 보자. 카드는 제일 위에서부터 1234 의 순서로 놓여있다. 1을 버리면 234가 남는다. 여기서 2를 제일 아래로 옮기면 342가 된다. 3을 버리면 42가 되고, 4를 밑으로 옮기면 24가 된다. 마지막으로 2를 버리고 나면, 남는 카드는 4가 된다.\n",
        "\n",
        "N이 주어졌을 때, 제일 마지막에 남게 되는 카드를 구하는 프로그램을 작성하시오."
      ]
    },
    {
      "cell_type": "code",
      "metadata": {
        "id": "XgW71noBCPCg",
        "colab": {
          "base_uri": "https://localhost:8080/"
        },
        "outputId": "bd87a825-b0a2-404b-fd8f-3759b6ff737c"
      },
      "source": [
        "# 내가 한 풀이 => 시간초과 왜??\n",
        "N = int(input()) \n",
        "card = list(range(1,N+1))\n",
        "\n",
        "while N > 1 :\n",
        "  del card[0]\n",
        "  card.append(card[0])\n",
        "  del card[0]\n",
        "  if len(card) == 1 :\n",
        "    break\n",
        "\n",
        "print(card)\n",
        "\n",
        "\n",
        "# deque 사용 \n",
        "from collections import deque\n",
        "# N 카드개수 입력, 카드는 1~N까지 존재 \n",
        "N = int(input()) \n",
        "card = deque(list(range(1,N+1)))\n",
        "\n",
        "while N > 1 :\n",
        "  # deque 시작 부분 추출\n",
        "  card.popleft()\n",
        "  # 맨 뒤에 넣기 \n",
        "  card.append(card.popleft())\n",
        "  # 카드 하나남으면 stop \n",
        "  if len(card) == 1 :\n",
        "    break\n",
        "\n",
        "print(card[0])"
      ],
      "execution_count": 5,
      "outputs": [
        {
          "output_type": "stream",
          "text": [
            "6\n",
            "4\n"
          ],
          "name": "stdout"
        }
      ]
    }
  ]
}